{
  "nbformat": 4,
  "nbformat_minor": 0,
  "metadata": {
    "colab": {
      "provenance": [],
      "authorship_tag": "ABX9TyNcGlRNFi4DJlHUpLxA0BLE",
      "include_colab_link": true
    },
    "kernelspec": {
      "name": "python3",
      "display_name": "Python 3"
    },
    "language_info": {
      "name": "python"
    }
  },
  "cells": [
    {
      "cell_type": "markdown",
      "metadata": {
        "id": "view-in-github",
        "colab_type": "text"
      },
      "source": [
        "<a href=\"https://colab.research.google.com/github/SaFong490/prueba-1/blob/main/Prueba1.ipynb\" target=\"_parent\"><img src=\"https://colab.research.google.com/assets/colab-badge.svg\" alt=\"Open In Colab\"/></a>"
      ]
    },
    {
      "cell_type": "code",
      "execution_count": 14,
      "metadata": {
        "colab": {
          "base_uri": "https://localhost:8080/"
        },
        "id": "J1PQIB0cVJ-f",
        "outputId": "8be0c8c5-2974-4f31-e789-c8fecb5659e8"
      },
      "outputs": [
        {
          "output_type": "stream",
          "name": "stdout",
          "text": [
            "Hola, soy Samuel, Mucho gusto.\n",
            "Bueno qué hago\n",
            "10\n",
            "-4\n",
            "600\n"
          ]
        }
      ],
      "source": [
        "name = \"Samuel\"\n",
        "message = \"Hola, soy \" + name + \", Mucho gusto.\"\n",
        "print(message)\n",
        "print (\"Bueno qué hago\")\n",
        "\n",
        "a = 3\n",
        "b = 7\n",
        "c = 3 + 7\n",
        "d = 3 - 7\n",
        "a *= 200\n",
        "print(c)\n",
        "print(d)\n",
        "print(a)"
      ]
    }
  ]
}